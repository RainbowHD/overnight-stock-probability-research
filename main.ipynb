{
 "cells": [
  {
   "cell_type": "code",
   "execution_count": null,
   "id": "1e7cd99b",
   "metadata": {},
   "outputs": [],
   "source": [
    "import pandas as pd\n",
    "import matplotlib.pyplot as plt\n",
    "from matplotlib.patches import Patch\n",
    "import seaborn as sns\n",
    "import numpy as np\n",
    "import pandas as pd\n",
    "import mplfinance as mpl\n",
    "import seaborn as sns\n",
    "from scipy import stats\n",
    "from pathlib import Path\n",
    "from sklearn.pipeline import Pipeline\n",
    "import warnings\n",
    "warnings.filterwarnings(\"ignore\")"
   ]
  },
  {
   "cell_type": "markdown",
   "id": "310d76be",
   "metadata": {},
   "source": [
    "## Data cleaning and wrangling: "
   ]
  },
  {
   "cell_type": "code",
   "execution_count": null,
   "id": "326f8248",
   "metadata": {},
   "outputs": [],
   "source": [
    "#es0 = pd.read_csv('/Users/admin/Desktop/Weiterbildung/backtest/Data/e-mini/glbx-mdp3-20100606-20170430.ohlcv-1m.csv') #2010 \n",
    "#es1 = pd.read_csv('/Users/admin/Desktop/Weiterbildung/backtest/Data/e-mini/e_mini_1m.csv') # 2017 \n",
    "#es2 = pd.read_csv('/Users/admin/Desktop/Weiterbildung/backtest/Data/e-mini/glbx-mdp3-20241001-20250302.ohlcv-1m.csv') # #2024"
   ]
  },
  {
   "cell_type": "code",
   "execution_count": null,
   "id": "b5964e65",
   "metadata": {},
   "outputs": [],
   "source": [
    "# es_combined = pd.concat([es0, es1, es2], ignore_index=True)\n",
    "# es_combined.to_csv('/Users/admin/Desktop/Weiterbildung/backtest/Data/es_e-mini_comined.csv', index=False)"
   ]
  },
  {
   "cell_type": "code",
   "execution_count": null,
   "id": "d325fe72",
   "metadata": {},
   "outputs": [],
   "source": [
    "es_path = \"src/datasets/es_e-mini_comined.csv\"\n",
    "nq_path = \"src/datasets/glbx-mdp3-20100606-20250302.ohlcv-1m.csv\""
   ]
  },
  {
   "cell_type": "code",
   "execution_count": null,
   "id": "1bacb0c2",
   "metadata": {},
   "outputs": [],
   "source": [
    "def load_and_convert(file_path, tz='US/Eastern'):\n",
    "    \"\"\"\n",
    "    Load a market data CSV file, convert timestamps to a specific timezone,\n",
    "    and filter rows where the symbol has exactly 4 characters.\n",
    "\n",
    "    Parameters:\n",
    "    - file_path (str or Path): Path to the CSV file containing market data.\n",
    "    - tz (str): Timezone to convert the timestamp column to. Default is 'US/Eastern'.\n",
    "\n",
    "    Returns:\n",
    "    - pd.DataFrame: Processed DataFrame with timezone-aware datetime values.\n",
    "    \"\"\"\n",
    "    file_path = Path(file_path)\n",
    "    df = pd.read_csv(file_path, parse_dates=['ts_event'])\n",
    "\n",
    "    # Localize if naive, otherwise just convert\n",
    "    if df['ts_event'].dt.tz is None:\n",
    "        df['ts_event'] = df['ts_event'].dt.tz_localize('UTC').dt.tz_convert(tz)\n",
    "    else:\n",
    "        df['ts_event'] = df['ts_event'].dt.tz_convert(tz)\n",
    "\n",
    "    # Filter rows where 'symbol' has exactly 4 characters\n",
    "    df = df[df['symbol'].apply(lambda x: len(str(x)) == 4)]\n",
    "\n",
    "    return df\n"
   ]
  },
  {
   "cell_type": "code",
   "execution_count": null,
   "id": "f6157559",
   "metadata": {},
   "outputs": [],
   "source": [
    "es_df = load_and_convert(es_path)\n",
    "nq_df = load_and_convert(nq_path)"
   ]
  },
  {
   "cell_type": "code",
   "execution_count": null,
   "id": "a648d5ce",
   "metadata": {},
   "outputs": [],
   "source": [
    "#mpl.plot(sunday, volume=True ,type='candle', tight_layout=True, style='charles', figsize=(18,7), warn_too_much_data=len(sunday)+1)"
   ]
  },
  {
   "cell_type": "markdown",
   "id": "fd836be7",
   "metadata": {},
   "source": [
    "March (H), June (M), September (U), December (Z)\n"
   ]
  },
  {
   "cell_type": "code",
   "execution_count": null,
   "id": "8150a46a",
   "metadata": {},
   "outputs": [],
   "source": [
    "def filter_nq_contracts(dataframe):\n",
    "    \"\"\"\n",
    "    filtering dataframe for contracts NQH, NQM, NQU, NQZ,\n",
    "    \"\"\"\n",
    "\n",
    "    dataframe = dataframe.copy()\n",
    "    dataframe['ts_event'] = pd.to_datetime(dataframe['ts_event'])\n",
    "\n",
    "    dataframe['month'] = dataframe['ts_event'].dt.month\n",
    "    dataframe['day'] = dataframe['ts_event'].dt.day\n",
    "\n",
    "    mask_h = (((dataframe['month'] == 12) & (dataframe['day'] >= 15)) | ((dataframe['month'] == 1) | (dataframe['month'] == 2) | ((dataframe['month'] == 3) & (dataframe['day'] <= 21)))) & dataframe['symbol'].str.startswith('NQH')\n",
    "    mask_m = (((dataframe['month'] == 3) & (dataframe['day'] >= 16)) | (dataframe['month'] == 4) | (dataframe['month'] == 5) | ((dataframe['month'] == 6) & (dataframe['day'] <= 20))) & dataframe['symbol'].str.startswith('NQM')\n",
    "    mask_u = (((dataframe['month'] == 6) & (dataframe['day'] >= 16)) | (dataframe['month'] == 7) | (dataframe['month'] == 8) | ((dataframe['month'] == 9) & (dataframe['day'] <= 19))) & dataframe['symbol'].str.startswith('NQU')\n",
    "    mask_z = (((dataframe['month'] == 9) & (dataframe['day'] >= 15)) | (dataframe['month'] == 10) | (dataframe['month'] == 11) | ((dataframe['month'] == 12) & (dataframe['day'] <= 19))) & dataframe['symbol'].str.startswith('NQZ')\n",
    "\n",
    "    valid_mask = mask_h | mask_m | mask_u | mask_z\n",
    "\n",
    "    dataframe.loc[mask_h, 'sym'] = 'NQH'\n",
    "    dataframe.loc[mask_m, 'sym'] = 'NQM'\n",
    "    dataframe.loc[mask_u, 'sym'] = 'NQU'\n",
    "    dataframe.loc[mask_z, 'sym'] = 'NQZ'\n",
    "\n",
    "    return dataframe[valid_mask].drop(columns=['month', 'day'])\n"
   ]
  },
  {
   "cell_type": "code",
   "execution_count": null,
   "id": "922393be",
   "metadata": {},
   "outputs": [],
   "source": [
    "def filter_es_contracts(dataframe):\n",
    "    \"\"\"\n",
    "    filtering dataframe for contracts ESH, ESM, ESU, ESZ,\n",
    "    \"\"\"\n",
    "\n",
    "    dataframe = dataframe.copy()\n",
    "    dataframe['ts_event'] = pd.to_datetime(dataframe['ts_event'])\n",
    "\n",
    "    dataframe['month'] = dataframe['ts_event'].dt.month\n",
    "    dataframe['day'] = dataframe['ts_event'].dt.day\n",
    "\n",
    "    mask_h = (((dataframe['month'] == 12) & (dataframe['day'] >= 15)) | ((dataframe['month'] == 1) | (dataframe['month'] == 2) | ((dataframe['month'] == 3) & (dataframe['day'] <= 21)))) & dataframe['symbol'].str.startswith('ESH')\n",
    "    mask_m = (((dataframe['month'] == 3) & (dataframe['day'] >= 16)) | (dataframe['month'] == 4) | (dataframe['month'] == 5) | ((dataframe['month'] == 6) & (dataframe['day'] <= 20))) & dataframe['symbol'].str.startswith('ESM')\n",
    "    mask_u = (((dataframe['month'] == 6) & (dataframe['day'] >= 16)) | (dataframe['month'] == 7) | (dataframe['month'] == 8) | ((dataframe['month'] == 9) & (dataframe['day'] <= 19))) & dataframe['symbol'].str.startswith('ESU')\n",
    "    mask_z = (((dataframe['month'] == 9) & (dataframe['day'] >= 15)) | (dataframe['month'] == 10) | (dataframe['month'] == 11) | ((dataframe['month'] == 12) & (dataframe['day'] <= 19))) & dataframe['symbol'].str.startswith('ESZ')\n",
    "\n",
    "    valid_mask = mask_h | mask_m | mask_u | mask_z\n",
    "\n",
    "    dataframe.loc[mask_h, 'sym'] = 'ESH'\n",
    "    dataframe.loc[mask_m, 'sym'] = 'ESM'\n",
    "    dataframe.loc[mask_u, 'sym'] = 'ESU'\n",
    "    dataframe.loc[mask_z, 'sym'] = 'ESZ'\n",
    "\n",
    "    return dataframe[valid_mask].drop(columns=['month', 'day'])"
   ]
  },
  {
   "cell_type": "code",
   "execution_count": null,
   "id": "3c0d5a55",
   "metadata": {},
   "outputs": [],
   "source": [
    "filtered_nq = filter_nq_contracts(nq_df)\n",
    "filtered_es = filter_es_contracts(es_df)"
   ]
  },
  {
   "cell_type": "code",
   "execution_count": null,
   "id": "43207c36",
   "metadata": {},
   "outputs": [],
   "source": [
    "filtered_es.shape"
   ]
  },
  {
   "cell_type": "code",
   "execution_count": null,
   "id": "5622f149",
   "metadata": {},
   "outputs": [],
   "source": [
    "#mpl.plot(sunday,volume=True ,type='candle', tight_layout=True,style='charles',  figsize=(18,7), warn_too_much_data=len(sunday)+1) "
   ]
  },
  {
   "cell_type": "markdown",
   "id": "314375dd",
   "metadata": {},
   "source": [
    "## Date filter: "
   ]
  },
  {
   "cell_type": "code",
   "execution_count": null,
   "id": "16c464b0",
   "metadata": {},
   "outputs": [],
   "source": [
    "def set_dates(dataframe, start_date=\"2020-06-06\", end_date=\"2025-03-02\"):\n",
    "    return dataframe[(dataframe['ts_event'] >= pd.to_datetime(start_date).tz_localize(\"US/Eastern\")) & (dataframe['ts_event'] <= pd.to_datetime(end_date).tz_localize(\"US/Eastern\"))]"
   ]
  },
  {
   "cell_type": "code",
   "execution_count": null,
   "id": "48e39821",
   "metadata": {},
   "outputs": [],
   "source": [
    "limited_nq = set_dates(filtered_nq).set_index(\"ts_event\")\n",
    "limited_es = set_dates(filtered_es).set_index(\"ts_event\")"
   ]
  },
  {
   "cell_type": "markdown",
   "id": "edc22159",
   "metadata": {},
   "source": [
    "## Initialize RTH session dataframe: "
   ]
  },
  {
   "cell_type": "code",
   "execution_count": null,
   "id": "a605b552",
   "metadata": {},
   "outputs": [],
   "source": [
    "rth_session_nq = limited_nq.between_time(\"09:30\", \"16:00\")\n",
    "rth_session_es = limited_es.between_time(\"09:30\", \"16:00\")"
   ]
  },
  {
   "cell_type": "code",
   "execution_count": null,
   "id": "1390c39c",
   "metadata": {},
   "outputs": [],
   "source": [
    "# mpl.plot(rth_session,volume=True,type='candle', tight_layout=True, style='charles', figsize=(18,7), warn_too_much_data=len(rth_session)+1)"
   ]
  },
  {
   "cell_type": "markdown",
   "id": "b4454c5e",
   "metadata": {},
   "source": [
    "## Defining overnight: \n"
   ]
  },
  {
   "cell_type": "code",
   "execution_count": null,
   "id": "7671b4e0",
   "metadata": {},
   "outputs": [],
   "source": [
    "def calculate_ovn_high_low(dataframe):\n",
    "    \"\"\"\n",
    "    Calculate overnight high and low values for each session in the DataFrame.\n",
    "\n",
    "    Parameters:\n",
    "    df (pd.DataFrame): A DataFrame with a DatetimeIndex and at least 'high' and 'low' columns.\n",
    "\n",
    "    Returns:\n",
    "    pd.DataFrame: A DataFrame containing 'ts_event', 'ovn_high', and 'ovn_low' for each overnight session.\n",
    "    \"\"\"\n",
    "    overnight_results = []\n",
    "    groups = list(dataframe.groupby(dataframe.index.date))\n",
    "\n",
    "    for i in range(0, len(groups) - 1):\n",
    "        (_, group1), (date2, group2) = groups[i], groups[i + 1]\n",
    "\n",
    "        curr_day_data = group1.between_time(\"16:00\", \"23:59\")\n",
    "        next_day_data = group2.between_time(\"00:00\", \"09:29\")\n",
    "\n",
    "        maximum = max(curr_day_data['high'].max(), next_day_data['high'].max())\n",
    "        minimum = min(curr_day_data['low'].min(), next_day_data['low'].min())\n",
    "\n",
    "        overnight_results.append({\n",
    "            'ts_event': pd.to_datetime(date2),\n",
    "            'ovn_high': maximum,\n",
    "            'ovn_low': minimum,\n",
    "        })\n",
    "\n",
    "    return pd.DataFrame(overnight_results)\n"
   ]
  },
  {
   "cell_type": "code",
   "execution_count": null,
   "id": "09073e68",
   "metadata": {},
   "outputs": [],
   "source": [
    "overnight_df_nq = calculate_ovn_high_low(rth_session_nq).set_index('ts_event')\n",
    "overnight_df_es = calculate_ovn_high_low(rth_session_es).set_index('ts_event')"
   ]
  },
  {
   "cell_type": "code",
   "execution_count": null,
   "id": "8fefbcad",
   "metadata": {},
   "outputs": [],
   "source": [
    "rth_session_nq"
   ]
  },
  {
   "cell_type": "markdown",
   "id": "e14f7808",
   "metadata": {},
   "source": [
    "## Merging data: \n"
   ]
  },
  {
   "cell_type": "code",
   "execution_count": null,
   "id": "6451472a",
   "metadata": {},
   "outputs": [],
   "source": [
    "def merge_df(rth_df: pd.DataFrame, overnight_df: pd.DataFrame) -> pd.DataFrame:\n",
    "    \"\"\"\n",
    "    Merges RTH data with overnight data based on the date.\n",
    "\n",
    "    Parameters:\n",
    "        rth_df (pd.DataFrame): DataFrame with a 'ts_event' index (datetime with time).\n",
    "        overnight_df (pd.DataFrame): DataFrame with a 'ts_event' index (date or datetime).\n",
    "\n",
    "    Returns:\n",
    "        pd.DataFrame: The merged DataFrame with cleaned columns.\n",
    "    \"\"\"\n",
    "\n",
    "    rth_df = rth_df.reset_index().copy()\n",
    "    rth_df['date_only'] = pd.to_datetime(rth_df['ts_event']).dt.date\n",
    "\n",
    "    overnight_df = overnight_df.reset_index().copy()\n",
    "    overnight_df['ts_event'] = pd.to_datetime(overnight_df['ts_event']).dt.date\n",
    "\n",
    "    merged = pd.merge(\n",
    "        rth_df,\n",
    "        overnight_df,\n",
    "        how='left',\n",
    "        left_on='date_only',\n",
    "        right_on='ts_event',\n",
    "        suffixes=('', '_overnight')\n",
    "    )\n",
    "\n",
    "    merged['ts_event_overnight'] = pd.to_datetime(merged['ts_event_overnight'])\n",
    "\n",
    "    cols_to_drop = [\n",
    "        col for col in ['date_only', 'rtype', 'publisher_id']\n",
    "        if col in merged.columns\n",
    "    ]\n",
    "\n",
    "    merged.drop(columns=cols_to_drop, inplace=True)\n",
    "\n",
    "    return merged\n"
   ]
  },
  {
   "cell_type": "code",
   "execution_count": null,
   "id": "412bed4d",
   "metadata": {},
   "outputs": [],
   "source": [
    "nq_merged = merge_df(rth_session_nq, overnight_df_nq)\n",
    "#es_merged = merge_df(rth_session_es, overnight_df_es)\n",
    "#nq_merged[nq_merged['ovn_low'].isna()]"
   ]
  },
  {
   "cell_type": "markdown",
   "id": "e4312ea7",
   "metadata": {},
   "source": [
    "## Calculate broke of OVN High and OVN Low: "
   ]
  },
  {
   "cell_type": "code",
   "execution_count": null,
   "id": "dfdbb044",
   "metadata": {},
   "outputs": [],
   "source": [
    "def calc_ovn_broke(dataframe):\n",
    "    \"\"\"\n",
    "    Calculates the overnight breakout condition for each group in the DataFrame and annotates the result.\n",
    "\n",
    "    Parameters:\n",
    "    - dataframe (pd.DataFrame): Input DataFrame with intraday data and overnight high/low levels.\n",
    "    - result_col (str): Column name where results will be stored (created if not present).\n",
    "\n",
    "    Returns:\n",
    "    - pd.DataFrame: Modified DataFrame with the new result column filled.\n",
    "    \"\"\"\n",
    "    dataframe['OVN break'] = 0  \n",
    "\n",
    "    for date, group in dataframe.groupby('ts_event'):\n",
    "        high_break_index = None\n",
    "        low_break_index = None\n",
    "\n",
    "        for i, row in group.iterrows():\n",
    "            if row['close'] >= row['ovn_high'] and high_break_index is None:\n",
    "                high_break_index = i\n",
    "            if row['close'] <= row['ovn_low'] and low_break_index is None:\n",
    "                low_break_index = i\n",
    "            if high_break_index is not None and low_break_index is not None:\n",
    "                break\n",
    "\n",
    "        if high_break_index is not None and low_break_index is not None:\n",
    "            dataframe.at[max(high_break_index, low_break_index), 'OVN break'] = 3\n",
    "        elif high_break_index is not None:\n",
    "            dataframe.at[high_break_index, 'OVN break'] = 2\n",
    "        elif low_break_index is not None:\n",
    "            dataframe.at[low_break_index, 'OVN break'] = 1\n",
    "\n",
    "    return dataframe\n"
   ]
  },
  {
   "cell_type": "markdown",
   "id": "65fcda85",
   "metadata": {},
   "source": [
    "## Calculate output: "
   ]
  },
  {
   "cell_type": "code",
   "execution_count": null,
   "id": "4f671034",
   "metadata": {},
   "outputs": [],
   "source": [
    "ovn_broke_nq = calc_ovn_broke(nq_merged).dropna()\n",
    "#ovn_broke_es = calc_ovn_broke(es_merged)"
   ]
  },
  {
   "cell_type": "code",
   "execution_count": null,
   "id": "010c7fa4",
   "metadata": {},
   "outputs": [],
   "source": [
    "ovn_broke_nq"
   ]
  },
  {
   "cell_type": "code",
   "execution_count": null,
   "id": "6be2b7ad",
   "metadata": {},
   "outputs": [],
   "source": [
    "def get_distribution_info(df: pd.DataFrame) -> dict:\n",
    "    \"\"\"\n",
    "    Give information about the distribution of 'OVN break' events in a DataFrame.\n",
    "\n",
    "    Parameters:\n",
    "    ----------\n",
    "    df : pd.DataFrame\n",
    "        A DataFrame containing at least the columns 'ts_event_y' (datetime) and 'OVN break' (int).\n",
    "\n",
    "    Returns:\n",
    "    -------\n",
    "    dict\n",
    "        A dictionary with:\n",
    "        - The min and max observation dates,\n",
    "        - Total number of observations (excluding Sundays),\n",
    "        - Number of broken days and not broken days,\n",
    "        - Count of OVN High, Low, and both High & Low breaks.\n",
    "    \"\"\"\n",
    "    # Ensure required columns are present\n",
    "    required_columns = {'ts_event_overnight', 'OVN break'}\n",
    "    if not required_columns.issubset(df.columns):\n",
    "        raise ValueError(f\"Missing required columns: {required_columns - set(df.columns)}\")\n",
    "\n",
    "    # Filter out Sundays\n",
    "    weekday_df = df[df['ts_event_overnight'].dt.weekday != 6]\n",
    "    \n",
    "    # Unique number of observation days excluding Sundays\n",
    "    num_observations = weekday_df['ts_event_overnight'].dt.date.nunique()\n",
    "\n",
    "    # Filter only broken days (OVN break != 0)\n",
    "    broken_df = df[df['OVN break'] != 0]\n",
    "    broken_counts = broken_df['OVN break'].value_counts()\n",
    "\n",
    "    # Extract specific break types with defaults\n",
    "    ovn_high_broken = broken_counts.get(2, 0)\n",
    "    ovn_low_broken = broken_counts.get(1, 0)\n",
    "    ovn_high_low_broken = broken_counts.get(3, 0)\n",
    "\n",
    "    num_broken_days = broken_counts.sum()\n",
    "    num_not_broken = num_observations - num_broken_days\n",
    "\n",
    "    return {\n",
    "        'Date Range': f\"{df['ts_event_overnight'].dt.date.min()} - {df['ts_event_overnight'].dt.date.max()}\",\n",
    "        'Observation Days': num_observations,\n",
    "        'Broken Days': num_broken_days,\n",
    "        'Not Broken Days': num_not_broken,\n",
    "        'OVN High Broken': ovn_high_broken,\n",
    "        'OVN Low Broken': ovn_low_broken,\n",
    "        'OVN High & Low Broken': ovn_high_low_broken\n",
    "    }"
   ]
  },
  {
   "cell_type": "code",
   "execution_count": null,
   "id": "7d328765",
   "metadata": {},
   "outputs": [],
   "source": [
    "get_dist_info = get_distribution_info(ovn_broke_nq)"
   ]
  },
  {
   "cell_type": "markdown",
   "id": "5b61f59c",
   "metadata": {},
   "source": [
    "## Plotting pie chart for each asset: \n"
   ]
  },
  {
   "cell_type": "code",
   "execution_count": null,
   "id": "20518a99",
   "metadata": {},
   "outputs": [],
   "source": [
    "def plot_pie(date_range, ovn_high_broken, ovn_low_broken, ovn_high_low_broken, num_not_broken):\n",
    "    \"\"\"\n",
    "    Plot a pie chart visualizing the distribution of overnight breakout scenarios.\n",
    "\n",
    "    Parameters:\n",
    "    ----------\n",
    "    count_series : pd.Series\n",
    "        A Series containing counts of 'OVN break' values (1=low, 2=high, 3=both).\n",
    "    not_broken_days : int\n",
    "        The number of days when no overnight breakout occurred.\n",
    "\n",
    "    Returns:\n",
    "    -------\n",
    "    None\n",
    "    \"\"\"\n",
    "    # Define custom colors for each segment\n",
    "    segment_colors = ['#267a17', '#0d47a1', '#D22B2B', '#c9c9c9'] \n",
    "\n",
    "    # Labels with dynamic values (use .get with default to avoid KeyError)\n",
    "    labels = [\n",
    "        f\"High broken:\\n{ovn_high_broken} days\",\n",
    "        f\"Low broken:\\n{ovn_low_broken} days\",\n",
    "        f\"High & Low broken:\\n{ovn_high_low_broken} days\",\n",
    "        f\"None broken:\\n{num_not_broken} days\"\n",
    "    ]\n",
    "\n",
    "    # Values to plot (in matching order with labels/colors)\n",
    "    pie_values = [\n",
    "        ovn_high_broken,\n",
    "        ovn_low_broken,\n",
    "        ovn_high_low_broken,\n",
    "        num_not_broken\n",
    "    ]\n",
    "\n",
    "    # Pie chart configuration\n",
    "    plt.figure(figsize=(7, 7))\n",
    "    plt.pie(\n",
    "        pie_values,\n",
    "        autopct='%1.1f%%',\n",
    "        startangle=117,\n",
    "        explode=[0.03] * 4,\n",
    "        colors=segment_colors,\n",
    "        labels=labels\n",
    "    )\n",
    "    plt.title(f\"NQ Overnight Breakout Probability\\n{date_range}\", fontsize=15)\n",
    "    plt.tight_layout()\n",
    "    plt.show()\n"
   ]
  },
  {
   "cell_type": "code",
   "execution_count": null,
   "id": "d1553e69",
   "metadata": {},
   "outputs": [],
   "source": [
    "result = plot_pie(date_range=get_dist_info['Date Range'],\n",
    "                  ovn_high_broken=get_dist_info['OVN High Broken'], \n",
    "                  ovn_low_broken=get_dist_info['OVN Low Broken'], \n",
    "                  ovn_high_low_broken= get_dist_info['OVN High & Low Broken'], \n",
    "                  num_not_broken=get_dist_info['Observation Days']\n",
    "                  )\n",
    "\n",
    "result"
   ]
  },
  {
   "cell_type": "markdown",
   "id": "88afea7c",
   "metadata": {},
   "source": [
    "## Data wrangling for building a chart with a time-based x-axis: \n"
   ]
  },
  {
   "cell_type": "code",
   "execution_count": null,
   "id": "4f05662d",
   "metadata": {},
   "outputs": [],
   "source": [
    "dist_df = ovn_broke_nq[['ts_event', 'OVN break']]\n",
    "\n",
    "dist_df['Time'] = pd.to_datetime(dist_df['ts_event'], format='%H:%M:%S').dt.time\n",
    "\n",
    "both_breakout_df = dist_df[dist_df['OVN break'] == 3]\n",
    "both_breakout_df['Minutes'] = both_breakout_df['Time'].apply(lambda t: t.hour * 60 + t.minute)\n",
    "\n",
    "high_breakout_df = dist_df[dist_df['OVN break'] == 2]\n",
    "high_breakout_df['Minutes'] = high_breakout_df['Time'].apply(lambda t: t.hour * 60 + t.minute)\n",
    "\n",
    "low_breakout_df = dist_df[dist_df['OVN break'] == 1]\n",
    "low_breakout_df['Minutes'] = low_breakout_df['Time'].apply(lambda t: t.hour * 60 + t.minute)\n",
    "\n",
    "\n",
    "grouped = dist_df.groupby(['Time', 'OVN break'])['OVN break'].count().reset_index(name='Count')\n",
    "grouped = grouped.sort_values('Time')\n",
    "grouped['Minutes'] = grouped['Time'].apply(lambda t: t.hour * 60 + t.minute)"
   ]
  },
  {
   "cell_type": "code",
   "execution_count": null,
   "id": "5ebe2dd3",
   "metadata": {},
   "outputs": [],
   "source": [
    "grouped"
   ]
  },
  {
   "cell_type": "markdown",
   "id": "9e6a1482",
   "metadata": {},
   "source": [
    "## Plot graph for each asset: "
   ]
  },
  {
   "cell_type": "code",
   "execution_count": null,
   "id": "55e7dcea",
   "metadata": {},
   "outputs": [],
   "source": [
    "plt.figure(figsize=(11, 4))\n",
    " \n",
    "group_1 = grouped[grouped['OVN break'] == 1.0]\n",
    "#plt.bar(group_1['Minutes'], group_1['Count'], width=2, alpha=.65, label='OVN breakout low', color='blue')\n",
    "group_2 = grouped[grouped['OVN break'] == 2.0]\n",
    "plt.bar(group_2['Minutes'], group_2['Count'], width=2, alpha=.7, label='OVN breakout high', color='green')\n",
    "group_3 = grouped[grouped['OVN break'] == 3.0]\n",
    "#plt.bar(group_3['Minutes'], group_3['Count'], width=2, alpha=0.5, label='OVN breakout both, second breakout', color='#D22B2B')\n",
    "\n",
    "start_min = 9 * 60 + 30   \n",
    "end_min = 16 * 60         \n",
    "xticks = list(range(start_min, end_min + 1, 5)) \n",
    "xticklabels = [f'{h//60:02d}:{h%60:02d}' for h in xticks]\n",
    "\n",
    "#plt.axvspan(xmin=570, xmax=629, color='red', alpha=0.22, label='High breakout 09:30–10:28') # NQ OVN breakout high\n",
    "#plt.axvspan(xmin=570, xmax=596, color='red', alpha=0.2, label='First breakout 09:30–09:56') # NQ OVN breakout low \n",
    "\n",
    "plt.axvspan(xmin=570, xmax=596, color='red', alpha=0.22,label='First breakout 09:30–10:53') # OVN breakout high\n",
    "#plt.axvspan(xmin=570, xmax=660, color='red', alpha=0.22, label='Low breakout 09:30–11:00') # OVN breakout low \n",
    "\n",
    "plt.xticks(xticks, xticklabels, rotation=45, fontsize=6)\n",
    "plt.xlim(start_min - 1.5, end_min + 1.6)\n",
    "plt.yticks(ticks=range(0, 10, 5), fontsize=6)\n",
    "plt.xlabel('RTH session time lapse')\n",
    "plt.ylabel('Amount of occurencies')\n",
    "plt.title('NQ Overnight breakout distribution')\n",
    "plt.legend()\n",
    "plt.style.use('seaborn-v0_8')\n",
    "plt.grid(visible=True, which='both')\n",
    "plt.show()"
   ]
  },
  {
   "cell_type": "markdown",
   "id": "9bff4a71",
   "metadata": {},
   "source": [
    "## Boxplot for each asset nq and es: "
   ]
  },
  {
   "cell_type": "code",
   "execution_count": null,
   "id": "585c3f9e",
   "metadata": {},
   "outputs": [],
   "source": [
    "plt.style.use('seaborn-v0_8')\n",
    "fig, ax = plt.subplots(figsize=(11, 4), dpi=500)\n",
    "\n",
    "data = [low_breakout_df['Minutes'], high_breakout_df['Minutes']]\n",
    "labels = ['Low breakout', 'High breakout']\n",
    "colors = ['blue', 'green']\n",
    "\n",
    "box = ax.boxplot(\n",
    "    data,\n",
    "    vert=False,\n",
    "    patch_artist=True,\n",
    "    labels=labels,\n",
    "    widths=0.6,\n",
    "    medianprops=dict(color='red', linewidth=1.5)\n",
    ")\n",
    "\n",
    "for patch, color in zip(box['boxes'], colors):\n",
    "    patch.set_facecolor(color)\n",
    "    patch.set_alpha(0.58)\n",
    "\n",
    "start_min = 9 * 60 + 30   # 570\n",
    "end_min = 16 * 60         # 960\n",
    "xticks = list(range(start_min, end_min + 1, 15))\n",
    "xticklabels = [f'{h//60:02d}:{h%60:02d}' for h in xticks]\n",
    "ax.set_xticks(xticks)\n",
    "ax.set_xticklabels(xticklabels, rotation=45, fontsize=6)\n",
    "\n",
    "ax.set_xlim(start_min - 1.5, end_min + 1.6)\n",
    "ax.set_yticks([1, 2])\n",
    "ax.set_yticklabels(labels, fontsize=6)\n",
    "\n",
    "ax.set_xlabel('RTH session time lapse')\n",
    "ax.set_ylabel('Amount of occurencies')\n",
    "ax.set_title('Boxplot of NQ Overnight breakout distribution')\n",
    "\n",
    "ax.grid(visible=True, which='both')\n",
    "\n",
    "legend_elements = [\n",
    "    Patch(color='red', label='Median')\n",
    "]\n",
    "ax.legend(handles=legend_elements, fontsize=6)\n",
    "\n",
    "#plt.tight_layout()\n",
    "plt.show()\n"
   ]
  },
  {
   "cell_type": "markdown",
   "id": "8a6a61a2",
   "metadata": {},
   "source": [
    "## Calculate quantile 75%: "
   ]
  },
  {
   "cell_type": "code",
   "execution_count": null,
   "id": "8d2b286e",
   "metadata": {},
   "outputs": [],
   "source": [
    "q3high = both_breakout_df['Minutes'].quantile(0.75)\n",
    "q3low = both_breakout_df['Minutes'].quantile(0.75)\n",
    "print(f\"high {q3high / 60:.2f} hours\")\n",
    "print(f\"low {q3low / 60:.2f} hours\")\n",
    "print(q3high)\n",
    "print(q3low)\n",
    "\n",
    "#low_breakout_df['Minutes']"
   ]
  },
  {
   "cell_type": "code",
   "execution_count": null,
   "id": "33b7ad0c",
   "metadata": {},
   "outputs": [],
   "source": [
    "\n",
    "plt.style.use('seaborn-v0_8')\n",
    "\n",
    "fig, ax = plt.subplots(figsize=(11, 2.8), dpi=500)\n",
    "\n",
    "data = [both_breakout_df['Minutes']]\n",
    "labels = ['Both breakout']\n",
    "colors = ['red']\n",
    "\n",
    "box = ax.boxplot(\n",
    "    data,\n",
    "    vert=False,\n",
    "    patch_artist=True,\n",
    "    labels=labels,\n",
    "    widths=0.6,\n",
    "    medianprops=dict(color='red', linewidth=1.5)\n",
    ")\n",
    "\n",
    "\n",
    "for patch, color in zip(box['boxes'], colors):\n",
    "    patch.set_facecolor(color)\n",
    "    patch.set_alpha(0.58)\n",
    "\n",
    "start_min = 9 * 60 + 30   # 570\n",
    "end_min = 16 * 60         # 960\n",
    "xticks = list(range(start_min, end_min + 1, 15))\n",
    "xticklabels = [f'{h//60:02d}:{h%60:02d}' for h in xticks]\n",
    "ax.set_xticks(xticks)\n",
    "ax.set_xticklabels(xticklabels, rotation=45, fontsize=6)\n",
    "\n",
    "ax.set_xlim(start_min - 1.5, end_min + 1.6)\n",
    "ax.set_yticks([1])  \n",
    "ax.set_yticklabels(labels, fontsize=6)\n",
    "\n",
    "ax.set_xlabel('RTH session time lapse')\n",
    "ax.set_ylabel('Amount of occurencies')\n",
    "ax.set_title('Boxplot of NQ Both-side Overnight breakout distribution. First breakout')\n",
    "\n",
    "ax.grid(visible=True, which='both')\n",
    "legend_elements = [Patch(color='red', label='Median')]\n",
    "ax.legend(handles=legend_elements, fontsize=6)\n",
    "\n",
    "plt.tight_layout()\n",
    "plt.show()"
   ]
  }
 ],
 "metadata": {
  "kernelspec": {
   "display_name": "Python 3",
   "language": "python",
   "name": "python3"
  },
  "language_info": {
   "codemirror_mode": {
    "name": "ipython",
    "version": 3
   },
   "file_extension": ".py",
   "mimetype": "text/x-python",
   "name": "python",
   "nbconvert_exporter": "python",
   "pygments_lexer": "ipython3",
   "version": "3.12.6"
  }
 },
 "nbformat": 4,
 "nbformat_minor": 5
}
